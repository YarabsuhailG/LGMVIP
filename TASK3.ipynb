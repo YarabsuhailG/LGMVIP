{
  "nbformat": 4,
  "nbformat_minor": 0,
  "metadata": {
    "colab": {
      "provenance": []
    },
    "kernelspec": {
      "name": "python3",
      "display_name": "Python 3"
    },
    "language_info": {
      "name": "python"
    }
  },
  "cells": [
    {
      "cell_type": "markdown",
      "source": [
        "**LOAD THE DATASET AND TOKENIZE**"
      ],
      "metadata": {
        "id": "kZmNU4WBRTuP"
      }
    },
    {
      "cell_type": "code",
      "source": [
        "with open('/content/1661-0.txt', 'r', encoding='utf-8') as file:\n",
        "    text = file.read()\n",
        "\n",
        "# Tokenize the text into sentences\n",
        "from tensorflow.keras.preprocessing.text import Tokenizer\n",
        "from tensorflow.keras.preprocessing.sequence import pad_sequences\n",
        "\n",
        "# Split text into sentences\n",
        "corpus = text.lower().split(\"\\n\")\n",
        "\n",
        "# Tokenize the words\n",
        "tokenizer = Tokenizer()\n",
        "tokenizer.fit_on_texts(corpus)\n",
        "total_words = len(tokenizer.word_index) + 1\n",
        "\n",
        "# Create input sequences using list of tokens\n",
        "input_sequences = []\n",
        "for line in corpus:\n",
        "    token_list = tokenizer.texts_to_sequences([line])[0]\n",
        "    for i in range(1, len(token_list)):\n",
        "        n_gram_sequence = token_list[:i+1]\n",
        "        input_sequences.append(n_gram_sequence)\n",
        "\n",
        "\n",
        "max_sequence_len = max([len(x) for x in input_sequences])\n",
        "input_sequences = pad_sequences(input_sequences, maxlen=max_sequence_len, padding='pre')\n",
        "\n",
        "\n",
        "X, y = input_sequences[:,:-1], input_sequences[:,-1]\n",
        "\n",
        "from tensorflow.keras.utils import to_categorical\n",
        "y = to_categorical(y, num_classes=total_words)\n"
      ],
      "metadata": {
        "id": "5UqdCNjwc9s6"
      },
      "execution_count": null,
      "outputs": []
    },
    {
      "cell_type": "markdown",
      "source": [],
      "metadata": {
        "id": "t1O2wjGJRSSC"
      }
    },
    {
      "cell_type": "markdown",
      "source": [
        "**Build the LSTM Model**\n"
      ],
      "metadata": {
        "id": "7UDtGFXblu8p"
      }
    },
    {
      "cell_type": "code",
      "source": [
        "from tensorflow.keras.models import Sequential\n",
        "from tensorflow.keras.layers import Embedding, LSTM, Dense\n",
        "\n",
        "\n",
        "model = Sequential()\n",
        "model.add(Embedding(total_words, 100, input_length=max_sequence_len-1))\n",
        "model.add(LSTM(150))\n",
        "model.add(Dense(total_words, activation='softmax'))\n",
        "\n",
        "\n",
        "model.compile(loss='categorical_crossentropy', optimizer='adam', metrics=['accuracy'])\n",
        "\n",
        "\n",
        "model.summary()\n"
      ],
      "metadata": {
        "colab": {
          "base_uri": "https://localhost:8080/"
        },
        "id": "GY0dQNXtdGts",
        "outputId": "73338ccf-8ea2-468c-f9a5-d4fe10ac18a6"
      },
      "execution_count": null,
      "outputs": [
        {
          "output_type": "stream",
          "name": "stdout",
          "text": [
            "Model: \"sequential_4\"\n",
            "_________________________________________________________________\n",
            " Layer (type)                Output Shape              Param #   \n",
            "=================================================================\n",
            " embedding_4 (Embedding)     (None, 19, 100)           893200    \n",
            "                                                                 \n",
            " lstm_4 (LSTM)               (None, 150)               150600    \n",
            "                                                                 \n",
            " dense_4 (Dense)             (None, 8932)              1348732   \n",
            "                                                                 \n",
            "=================================================================\n",
            "Total params: 2392532 (9.13 MB)\n",
            "Trainable params: 2392532 (9.13 MB)\n",
            "Non-trainable params: 0 (0.00 Byte)\n",
            "_________________________________________________________________\n"
          ]
        }
      ]
    },
    {
      "cell_type": "markdown",
      "source": [
        "**Train the Model**"
      ],
      "metadata": {
        "id": "6Z_h33xSlgez"
      }
    },
    {
      "cell_type": "code",
      "source": [
        "history = model.fit(X, y, epochs=5, verbose=1)\n"
      ],
      "metadata": {
        "colab": {
          "base_uri": "https://localhost:8080/"
        },
        "id": "BlbpDwFvdKTH",
        "outputId": "53120fe1-2ec0-471e-eafa-db0dbba28000"
      },
      "execution_count": null,
      "outputs": [
        {
          "output_type": "stream",
          "name": "stdout",
          "text": [
            "Epoch 1/5\n",
            "3176/3176 [==============================] - 243s 77ms/step - loss: 4.8997 - accuracy: 0.1654\n",
            "Epoch 2/5\n",
            "3176/3176 [==============================] - 240s 76ms/step - loss: 4.5702 - accuracy: 0.1846\n",
            "Epoch 3/5\n",
            "3176/3176 [==============================] - 250s 79ms/step - loss: 4.2646 - accuracy: 0.2037\n",
            "Epoch 4/5\n",
            "3176/3176 [==============================] - 248s 78ms/step - loss: 3.9762 - accuracy: 0.2275\n",
            "Epoch 5/5\n",
            "3176/3176 [==============================] - 252s 79ms/step - loss: 3.6986 - accuracy: 0.2571\n"
          ]
        }
      ]
    },
    {
      "cell_type": "markdown",
      "source": [
        "**Generate Predictions**"
      ],
      "metadata": {
        "id": "778LC0TqlJ9L"
      }
    },
    {
      "cell_type": "code",
      "source": [
        "import numpy as np\n",
        "\n",
        "def generate_text(seed_text, next_words, max_sequence_len):\n",
        "    for _ in range(next_words):\n",
        "        token_list = tokenizer.texts_to_sequences([seed_text])[0]\n",
        "        token_list = pad_sequences([token_list], maxlen=max_sequence_len-1, padding='pre')\n",
        "        predicted = np.argmax(model.predict(token_list), axis=-1)\n",
        "\n",
        "        output_word = \"\"\n",
        "        for word, index in tokenizer.word_index.items():\n",
        "            if index == predicted:\n",
        "                output_word = word\n",
        "                break\n",
        "        seed_text += \" \" + output_word\n",
        "    return seed_text\n",
        "\n",
        "\n",
        "seed_text = \"Produced by an anonymous\" #Example sentence\n",
        "next_words = 1\n",
        "generated_text = generate_text(seed_text, next_words, max_sequence_len)\n",
        "print(\"Generated text:\", generated_text)\n"
      ],
      "metadata": {
        "colab": {
          "base_uri": "https://localhost:8080/"
        },
        "id": "8WCzITECklSc",
        "outputId": "153aa1ca-9ba3-4f14-c828-690070d20274"
      },
      "execution_count": null,
      "outputs": [
        {
          "output_type": "stream",
          "name": "stdout",
          "text": [
            "1/1 [==============================] - 0s 27ms/step\n",
            "Generated text: Produced by an anonymous project\n"
          ]
        }
      ]
    }
  ]
}